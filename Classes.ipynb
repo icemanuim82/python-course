{
 "cells": [
  {
   "cell_type": "markdown",
   "metadata": {},
   "source": [
    "# Question 1"
   ]
  },
  {
   "cell_type": "markdown",
   "metadata": {},
   "source": [
    "Write a python class named Point3D defined by x, y, and z.\n",
    "Define a method that returns (x, y ,z).\n",
    "This tells Python to represent this object in the following format: (x, y, z). \n",
    "Then create a variable named my_point containing a new instance of Point3D with x=1, y=2, and z=3 and print it."
   ]
  },
  {
   "cell_type": "code",
   "execution_count": 11,
   "metadata": {},
   "outputs": [
    {
     "name": "stdout",
     "output_type": "stream",
     "text": [
      "1 2 3\n",
      "None\n"
     ]
    }
   ],
   "source": [
    "class Point3D:\n",
    "    def __init__(self, x, y, z):\n",
    "        self.x =x\n",
    "        self.y= y \n",
    "        self.z = z\n",
    "    def rtrn(self):\n",
    "        print(self.x, self.y, self.z)\n",
    "my_point= Point3D(1,2,3)\n",
    "print(my_point.rtrn())"
   ]
  },
  {
   "cell_type": "markdown",
   "metadata": {},
   "source": [
    "## Question 2"
   ]
  },
  {
   "cell_type": "markdown",
   "metadata": {},
   "source": [
    "Write a Python class named Rectangle constructed by a length and width. Define two methods area and perimeter which will compute the area and the perimeter of the rectangle. Then create a variable named my_rectangle containing a new instance of Rectangle with width=3 and length = 4 and compute both of area and perimeter ( the area is expected to be 3*4=12 and perimeter 2*(3+4)=14)"
   ]
  },
  {
   "cell_type": "code",
   "execution_count": 13,
   "metadata": {},
   "outputs": [
    {
     "name": "stdout",
     "output_type": "stream",
     "text": [
      "12\n",
      "14\n"
     ]
    }
   ],
   "source": [
    "class Rectangle:\n",
    "    def __init__(self, l, w):\n",
    "        self.l=l\n",
    "        self.w=w\n",
    "    def area(self):\n",
    "        return self.l*self.w\n",
    "    def perimeter(self):\n",
    "        return 2* (self.l+self.w)\n",
    "my_rectangle= Rectangle(3,4)\n",
    "print(my_rectangle.area())\n",
    "print(my_rectangle.perimeter())"
   ]
  },
  {
   "cell_type": "markdown",
   "metadata": {},
   "source": [
    "### Question 3"
   ]
  },
  {
   "cell_type": "markdown",
   "metadata": {},
   "source": [
    "Write a Python  class named Circle constructed by its center O and radius r. Define two methods area and perimeter which will compute the area and the perimeter of the circle, and isInside() method of the class which allows to test whether a point A(x, y) belongs to the circle C(O, r) or not."
   ]
  },
  {
   "cell_type": "code",
   "execution_count": 47,
   "metadata": {},
   "outputs": [
    {
     "name": "stdout",
     "output_type": "stream",
     "text": [
      "78.5\n",
      "31.400000000000002\n",
      "True\n"
     ]
    }
   ],
   "source": [
    "class Circle():\n",
    "    def __init__(self,Ox,Oy,r):\n",
    "        self.Ox= Ox\n",
    "        self.Oy= Oy\n",
    "        self.r= r\n",
    "    def area(self):\n",
    "        return 3.14* self.r**2\n",
    "    def perimeter(self):\n",
    "        return 2*3.14* self.r\n",
    "    def isinside(self,x,y):\n",
    "        self.x=x\n",
    "        self.y=y\n",
    "        if ((self.x-self.Ox)**2+(self.y-self.Oy)**2)<= (self.r**2):\n",
    "            return True\n",
    "        else:\n",
    "            return False\n",
    "    \n",
    "my_circle= Circle(1,3,5)\n",
    "print(my_circle.area())\n",
    "print(my_circle.perimeter())\n",
    "print(my_circle.isinside(2,3))     \n",
    "        \n",
    "    \n",
    "        "
   ]
  },
  {
   "cell_type": "markdown",
   "metadata": {},
   "source": [
    "### Question 4"
   ]
  },
  {
   "cell_type": "markdown",
   "metadata": {},
   "source": [
    "Suppose we want to model a bank account with support for deposit and withdraw operations. Let’s create a python class named bank defined by its balance. Define two methods deposit and withdraw to compute the new amount of each operation."
   ]
  },
  {
   "cell_type": "code",
   "execution_count": 35,
   "metadata": {},
   "outputs": [
    {
     "name": "stdout",
     "output_type": "stream",
     "text": [
      "Enter amount to be deposited: 70\n",
      "Amount Deposited: 70.0\n",
      "Enter amount to be withdrawn: 30\n",
      "You Withdraw: 30.0\n"
     ]
    }
   ],
   "source": [
    "class bank:\n",
    "    def __init__(self):\n",
    "        self.b=0\n",
    "    def deposit(self):\n",
    "        amount = float(input(\"Enter amount to be deposited: \"))\n",
    "        self.b += amount\n",
    "        print(\"Amount Deposited:\", amount)\n",
    "    def withdraw(self):\n",
    "        amount = float(input(\"Enter amount to be withdrawn: \"))\n",
    "        if self.b >= amount:\n",
    "            self.b -= amount\n",
    "            print(\"You Withdraw:\", amount)\n",
    "        else:\n",
    "            print(\"Insufficient balance  \")\n",
    "s=bank()\n",
    "s.deposit()\n",
    "s.withdraw()\n"
   ]
  }
 ],
 "metadata": {
  "kernelspec": {
   "display_name": "Python 3",
   "language": "python",
   "name": "python3"
  },
  "language_info": {
   "codemirror_mode": {
    "name": "ipython",
    "version": 3
   },
   "file_extension": ".py",
   "mimetype": "text/x-python",
   "name": "python",
   "nbconvert_exporter": "python",
   "pygments_lexer": "ipython3",
   "version": "3.8.5"
  }
 },
 "nbformat": 4,
 "nbformat_minor": 4
}
