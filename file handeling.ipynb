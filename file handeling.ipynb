{
 "cells": [
  {
   "cell_type": "markdown",
   "metadata": {},
   "source": [
    "1. Write a Python program to read an entire text file.\n",
    "\n",
    "2. Write a Python program to read first n lines of a file.\n",
    "\n",
    "3. Write a Python program to read last n lines of a file\n",
    "\n",
    "4. Write a Python program that takes a text file as input and returns the number of words of a given text file.\n",
    "\n",
    "5. (bonus) Write a Python program to read last n lines of a file"
   ]
  },
  {
   "cell_type": "code",
   "execution_count": 54,
   "metadata": {},
   "outputs": [
    {
     "name": "stdout",
     "output_type": "stream",
     "text": [
      "What is Python language?                                                \n",
      "Python is a widely used high-level, general-purpose, interpreted, dynamic programming language.Its design philosophy emphasizes code readability, and its syntax allows programmers to express concepts in fewer lines of code than possible in \n",
      "languages such as C++ or Java. \n",
      "Python supports multiple programming paradigms, including object-oriented, imperative and functional programming or procedural styles. It features a dynamic type system and automatic memory management and has a large and comprehensive standard library.The best way we learn anything is by practice and exercise questions. We  have started this section for those (beginner to intermediate) who are familiar with Python."
     ]
    }
   ],
   "source": [
    "#1. Write a Python program to read an entire text file.\n",
    "\n",
    "f = open(\"/Users/hesham_serag/Desktop/python.txt\",'r')\n",
    "for line in f:\n",
    "      print(line, end = '')\n",
    "\n",
    "\n"
   ]
  },
  {
   "cell_type": "code",
   "execution_count": 5,
   "metadata": {},
   "outputs": [
    {
     "name": "stdout",
     "output_type": "stream",
     "text": [
      "What is Python language?                                                \n",
      "\n",
      "Python is a widely used high-level, general-purpose, interpreted, dynamic programming language.Its design philosophy emphasizes code readability, and its syntax allows programmers to express concepts in fewer lines of code than possible in \n",
      "\n",
      "languages such as C++ or Java. \n",
      "\n"
     ]
    }
   ],
   "source": [
    "#2. Write a Python program to read first n lines of a file.\n",
    "number_of_lines = 3\n",
    "f = open(\"/Users/hesham_serag/Desktop/python.txt\",'r')\n",
    "for i in range(number_of_lines):\n",
    "    line = f.readline()\n",
    "    print(line)\n"
   ]
  },
  {
   "cell_type": "code",
   "execution_count": 7,
   "metadata": {},
   "outputs": [
    {
     "name": "stdout",
     "output_type": "stream",
     "text": [
      "['Python supports multiple programming paradigms, including object-oriented, imperative and functional programming or procedural styles. It features a dynamic type system and automatic memory management and has a large and comprehensive standard library.The best way we learn anything is by practice and exercise questions. We  have started this section for those (beginner to intermediate) who are familiar with Python.']\n"
     ]
    }
   ],
   "source": [
    "#3. Write a Python program to read last n lines of a file\n",
    "\n",
    "lines = f.readlines()\n",
    "last_lines = lines[-5:]\n",
    "\n",
    "print(last_lines)"
   ]
  },
  {
   "cell_type": "code",
   "execution_count": 10,
   "metadata": {},
   "outputs": [
    {
     "name": "stdout",
     "output_type": "stream",
     "text": [
      "Number of words in text file : 100\n"
     ]
    }
   ],
   "source": [
    "f = open(\"/Users/hesham_serag/Desktop/python.txt\",'r')\n",
    "\n",
    "data = f.read()\n",
    "words = data.split()\n",
    "\n",
    "print('Number of words in text file :', len(words))"
   ]
  },
  {
   "cell_type": "code",
   "execution_count": null,
   "metadata": {},
   "outputs": [],
   "source": []
  }
 ],
 "metadata": {
  "kernelspec": {
   "display_name": "Python 3",
   "language": "python",
   "name": "python3"
  },
  "language_info": {
   "codemirror_mode": {
    "name": "ipython",
    "version": 3
   },
   "file_extension": ".py",
   "mimetype": "text/x-python",
   "name": "python",
   "nbconvert_exporter": "python",
   "pygments_lexer": "ipython3",
   "version": "3.8.5"
  }
 },
 "nbformat": 4,
 "nbformat_minor": 4
}
