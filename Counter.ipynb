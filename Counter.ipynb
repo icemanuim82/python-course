{
 "cells": [
  {
   "cell_type": "markdown",
   "metadata": {},
   "source": [
    "In this project, you will be able to create a countdown timer using Python. The code will take input from the \n",
    "user regarding the length of the countdown in seconds. After that, a countdown will begin on the screen of \n",
    "the format ‘minutes: seconds. We will use the time module here.\n",
    "\n",
    "Instructions\n",
    "In this project, we will be using the time module and its sleep() function.\n",
    "Follow the below steps to create a countdown timer:\n",
    "\n",
    "Import the time module.\n",
    "1-Ask the user to input the length of the countdown in seconds.\n",
    "2-This value is sent as a parameter ‘t’ to the user-defined function countdown(). Any variable read using the input function is a string. So, convert this parameter to ‘int’ as it is of string type.\n",
    "3-In this function, a while loop runs until time becomes 0.\n",
    "4-Use divmod() to calculate the number of minutes and seconds. You can read more about it here.\n",
    "5-Now print the minutes and seconds on the screen using the variable timeformat.\n",
    "6-Using end = ‘\\r’ we force the cursor to go back to the start of the screen (carriage return) so that the next line printed will overwrite the previous one.\n",
    "7-The time.sleep() is used to make the code wait for one sec.\n",
    "8-Now decrement time so that the while loop can converge.\n",
    "9-After the completion of the loop, we will print “Fire in the hole” to signify the end of the countdown."
   ]
  },
  {
   "cell_type": "code",
   "execution_count": 8,
   "metadata": {},
   "outputs": [
    {
     "name": "stdout",
     "output_type": "stream",
     "text": [
      "Enter the length of the countdown timer: 19\n",
      "fire in the whole\n"
     ]
    }
   ],
   "source": [
    "import time\n",
    "def countdown(t):\n",
    "    while t:\n",
    "        m, s=divmod (t,60)\n",
    "        timer='{:02d}:{:02d}'.format(m, s)\n",
    "        print(timer, end='\\r')\n",
    "        time.sleep(1)\n",
    "        t-=1\n",
    "    print('fire in the whole')\n",
    "    \n",
    "t=int(input(\"Enter the length of the countdown timer: \"))\n",
    "countdown(t)"
   ]
  },
  {
   "cell_type": "code",
   "execution_count": null,
   "metadata": {},
   "outputs": [],
   "source": []
  }
 ],
 "metadata": {
  "kernelspec": {
   "display_name": "Python 3",
   "language": "python",
   "name": "python3"
  },
  "language_info": {
   "codemirror_mode": {
    "name": "ipython",
    "version": 3
   },
   "file_extension": ".py",
   "mimetype": "text/x-python",
   "name": "python",
   "nbconvert_exporter": "python",
   "pygments_lexer": "ipython3",
   "version": "3.8.5"
  }
 },
 "nbformat": 4,
 "nbformat_minor": 4
}
